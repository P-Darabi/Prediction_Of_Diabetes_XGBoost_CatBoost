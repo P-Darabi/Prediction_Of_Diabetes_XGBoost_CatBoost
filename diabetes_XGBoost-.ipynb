{
 "cells": [
  {
   "cell_type": "markdown",
   "metadata": {
    "colab": {
     "base_uri": "https://localhost:8080/"
    },
    "executionInfo": {
     "elapsed": 34322,
     "status": "ok",
     "timestamp": 1690570923708,
     "user": {
      "displayName": "Parisa Karimi",
      "userId": "12754741530182663549"
     },
     "user_tz": -210
    },
    "id": "3mFxADPn4V6A",
    "outputId": "b4721450-bd3a-4f60-f98e-9f42e8b122f3"
   },
   "source": [
    "<h1 align=center style=\"line-height:200%;font-family:vazir;color:#0099cc\">\n",
    "<font face=\"vazir\" color=\"#0099cc\">\n",
    "Prediction Of Diabetes\n",
    "</font>\n",
    "</h1>"
   ]
  },
  {
   "cell_type": "markdown",
   "metadata": {},
   "source": [
    "<h2 align=left style=\"line-height:200%;font-family:camtasia;color:#0099cc\">\n",
    "<font face=\"camtasia\" color=\"#0099cc\">\n",
    "Introduction\n",
    "</font>\n",
    "</h2>\n",
    "\n",
    "<p dir=rtl style=\"direction: rtl; text-align: left; line-height:200%; font-family:camtasia; font-size:medium\">\n",
    "<font face=\"camtasia\" size=3>\n",
    "Diabetes is a chronic disease that affects millions of people worldwide and can lead to serious health complications if left untreated. Early diagnosis and prediction of diabetes can help patients receive timely treatment and prevent the onset of complications. On the other hand, XGBoost and CatBoost are powerful machine-learning models that can be used to predict diabetes based on patient data. By providing accurate predictions, these models can help healthcare professionals make informed decisions and improve patient outcomes. Once the model is trained and validated, it can be used to predict the diabetes status of new patients based on their medical data. This can be a valuable tool for healthcare professionals to identify patients who are at risk of developing diabetes and provide them with timely interventions to prevent or manage the disease\n",
    "</font>\n",
    "</p>"
   ]
  },
  {
   "cell_type": "markdown",
   "metadata": {},
   "source": [
    "<h2 align=left style=\"line-height:200%;font-family:camtasia;color:#0099cc\">\n",
    "<font face=\"camtasia\" color=\"#0099cc\">\n",
    "Import the required libraries of the project\n",
    "</font>\n",
    "</h2>\n"
   ]
  },
  {
   "cell_type": "markdown",
   "metadata": {
    "colab": {
     "base_uri": "https://localhost:8080/",
     "height": 206
    },
    "executionInfo": {
     "elapsed": 2691,
     "status": "ok",
     "timestamp": 1690570926391,
     "user": {
      "displayName": "Parisa Karimi",
      "userId": "12754741530182663549"
     },
     "user_tz": -210
    },
    "id": "rcmUda974Sbj",
    "outputId": "b53ee840-3a65-4f9f-f744-c5d8b0db3feb"
   },
   "source": [
    "from sklearn.model_selection  import train_test_split\n",
    "from sklearn.preprocessing import StandardScaler\n",
    "from sklearn.metrics import accuracy_score\n",
    "from sklearn.model_selection import cross_val_score\n",
    "from sklearn.model_selection import cross_val_predict\n",
    "from numpy import mean\n",
    "from numpy import std\n",
    "from sklearn.model_selection import StratifiedKFold\n",
    "import seaborn as sns\n",
    "sns.set()\n",
    "\n",
    "import numpy as np\n",
    "import pandas as pd\n",
    "\n"
   ]
  },
  {
   "cell_type": "markdown",
   "metadata": {},
   "source": [
    "<h2 align=left style=\"line-height:200%;font-family:camtasia;color:#0099cc\">\n",
    "<font face=\"camtasia\" color=\"#0099cc\">\n",
    "Reading Dataset\n",
    "</font>\n",
    "</h2>"
   ]
  },
  {
   "cell_type": "code",
   "execution_count": 4,
   "metadata": {
    "collapsed": true
   },
   "outputs": [
    {
     "ename": "NameError",
     "evalue": "name 'pd' is not defined",
     "output_type": "error",
     "traceback": [
      "\u001b[1;31m---------------------------------------------------------------------------\u001b[0m",
      "\u001b[1;31mNameError\u001b[0m                                 Traceback (most recent call last)",
      "Cell \u001b[1;32mIn[4], line 1\u001b[0m\n\u001b[1;32m----> 1\u001b[0m diabetes \u001b[38;5;241m=\u001b[39m \u001b[43mpd\u001b[49m\u001b[38;5;241m.\u001b[39mread_csv(\u001b[38;5;124m'\u001b[39m\u001b[38;5;124m/content/drive/My Drive/diabetes.csv\u001b[39m\u001b[38;5;124m'\u001b[39m)\n\u001b[0;32m      2\u001b[0m diabetes\u001b[38;5;241m.\u001b[39mhead()\n",
      "\u001b[1;31mNameError\u001b[0m: name 'pd' is not defined"
     ]
    }
   ],
   "source": [
    "diabetes = pd.read_csv('/content/drive/My Drive/diabetes.csv')\n",
    "diabetes.head()"
   ]
  },
  {
   "cell_type": "markdown",
   "metadata": {},
   "source": [
    "<h2 align=left style=\"line-height:200%;font-family:camtasia;color:#0099cc\">\n",
    "<font face=\"camtasia\" color=\"#0099cc\">\n",
    "More details about Dataset\n",
    "</font>\n",
    "</h2>"
   ]
  },
  {
   "cell_type": "code",
   "execution_count": null,
   "metadata": {},
   "outputs": [],
   "source": [
    "diabetes.info()"
   ]
  },
  {
   "cell_type": "code",
   "execution_count": null,
   "metadata": {},
   "outputs": [],
   "source": [
    "diabetes.describe()"
   ]
  },
  {
   "cell_type": "code",
   "execution_count": null,
   "metadata": {},
   "outputs": [],
   "source": [
    "# Calculate the correlation matrix\n",
    "corr_matrix = X_train.corr()\n",
    "fig, ax = plt.subplots(figsize=(30, 20))\n",
    "sns.heatmap(corr_matrix, cmap='coolwarm', annot=True, ax=ax)\n",
    "ax.set_title('Correlation Matrix')\n",
    "plt.show()"
   ]
  },
  {
   "cell_type": "code",
   "execution_count": 3,
   "metadata": {
    "executionInfo": {
     "elapsed": 476,
     "status": "ok",
     "timestamp": 1690570958646,
     "user": {
      "displayName": "Parisa Karimi",
      "userId": "12754741530182663549"
     },
     "user_tz": -210
    },
    "id": "pRgAakng4Sbx"
   },
   "outputs": [],
   "source": [
    "#Split dataset\n",
    "x= diabetes.drop(columns='Diabetes')\n",
    "y= diabetes['Diabetes']\n",
    "X_train, X_val, y_train, y_val=train_test_split(x,y, shuffle=True, random_state=12, test_size=0.1)"
   ]
  },
  {
   "cell_type": "code",
   "execution_count": 4,
   "metadata": {
    "colab": {
     "base_uri": "https://localhost:8080/"
    },
    "executionInfo": {
     "elapsed": 7,
     "status": "ok",
     "timestamp": 1690570960544,
     "user": {
      "displayName": "Parisa Karimi",
      "userId": "12754741530182663549"
     },
     "user_tz": -210
    },
    "id": "Bafhgwb14Sby",
    "outputId": "fa27b97d-235d-430a-e077-0cebc495925d"
   },
   "outputs": [
    {
     "name": "stderr",
     "output_type": "stream",
     "text": [
      "/usr/local/lib/python3.10/dist-packages/sklearn/base.py:439: UserWarning: X does not have valid feature names, but StandardScaler was fitted with feature names\n",
      "  warnings.warn(\n"
     ]
    }
   ],
   "source": [
    "# Scale the dataset using StandardScaler\n",
    "scaler = StandardScaler()\n",
    "\n",
    "X_V = X_val.values\n",
    "scaled_x_train = scaler.fit_transform(X_train)\n",
    "scaled_x_val = scaler.transform(X_V)\n",
    "\n"
   ]
  },
  {
   "cell_type": "code",
   "execution_count": null,
   "metadata": {
    "colab": {
     "base_uri": "https://localhost:8080/"
    },
    "executionInfo": {
     "elapsed": 238674,
     "status": "ok",
     "timestamp": 1690564142373,
     "user": {
      "displayName": "Parisa Karimi",
      "userId": "12754741530182663549"
     },
     "user_tz": -210
    },
    "id": "1FRPxhbZ4Sb1",
    "outputId": "36d053f8-f9dd-419d-bb3f-b033dad97290"
   },
   "outputs": [
    {
     "name": "stdout",
     "output_type": "stream",
     "text": [
      "Best score: 0.9579\n",
      "Best parameters: {'colsample_bylevel': 0.5, 'colsample_bytree': 0.3, 'learning_rate': 0.1, 'max_depth': 3, 'min_child_weight': 1, 'n_estimators': 150, 'subsample': 0.5}\n"
     ]
    }
   ],
   "source": [
    "import numpy as np\n",
    "import pandas as pd\n",
    "from sklearn.model_selection import GridSearchCV\n",
    "from xgboost import XGBClassifier\n",
    "\n",
    "\n",
    "# Define the XGBoost model\n",
    "model = XGBClassifier()\n",
    "\n",
    "# Define the hyperparameters to be tuned\n",
    "param_grid = {\n",
    "    'n_estimators': [50, 100, 150],\n",
    "    'learning_rate': [0.01, 0.1, 0.5],\n",
    "    'max_depth': [2, 3, 4, 5],\n",
    "    'subsample': [0.5, 0.8, 1.0],\n",
    "    'colsample_bytree': [0.1, 0.2, 0.3, 0.5],\n",
    "    'colsample_bylevel' : [0.1, 0.2, 0.3, 0.5],\n",
    "    'min_child_weight': [1, 3, 5,7],\n",
    "}\n",
    "\n",
    "\n",
    "# Perform grid search to find the best hyperparameters\n",
    "kfold = StratifiedKFold(n_splits=3, shuffle=True, random_state=7)\n",
    "grid_search = GridSearchCV(model, param_grid=param_grid, cv=kfold, n_jobs=-1)\n",
    "grid_search.fit(scaled_x_train,y_train)\n",
    "\n",
    "# Print the best hyperparameters and the corresponding score\n",
    "print(\"Best score: {:.4f}\".format(grid_search.best_score_))\n",
    "print(\"Best parameters: {}\".format(grid_search.best_params_))"
   ]
  },
  {
   "cell_type": "code",
   "execution_count": 6,
   "metadata": {
    "colab": {
     "base_uri": "https://localhost:8080/"
    },
    "executionInfo": {
     "elapsed": 7872,
     "status": "ok",
     "timestamp": 1690570999634,
     "user": {
      "displayName": "Parisa Karimi",
      "userId": "12754741530182663549"
     },
     "user_tz": -210
    },
    "id": "kL_F1gAP4Sb4",
    "outputId": "2a536818-e01b-4987-d701-40f0d7d5414d"
   },
   "outputs": [
    {
     "name": "stdout",
     "output_type": "stream",
     "text": [
      "Mean Accuracy: 0.955 (0.005)\n",
      "Accuracy score (training): 0.971\n",
      "Accuracy score (validation): 0.958\n"
     ]
    }
   ],
   "source": [
    "# setup hyperparameters for xgboost\n",
    "from xgboost import XGBClassifier\n",
    "model = XGBClassifier(booster= 'gbtree',learning_rate= 0.1, max_depth= 3, n_estimators=150, colsample_bylevel= 0.5, colsample_bytree=0.3,subsample=0.5,min_child_weight=1)\n",
    "model.fit(scaled_x_train, y_train)\n",
    "y_pred = model.predict(scaled_x_val)\n",
    "\n",
    "# define the evaluation method\n",
    "cv = StratifiedKFold(n_splits=5, shuffle=True, random_state=7)\n",
    "\n",
    "# evaluate the model on the dataset\n",
    "n_scores = cross_val_score(model, scaled_x_train, y_train, scoring='accuracy', cv=cv, n_jobs=-1)\n",
    "\n",
    "# report performance\n",
    "print('Mean Accuracy: %.3f (%.3f)' % (mean(n_scores), std(n_scores)))\n",
    "print(\"Accuracy score (training): {0:.3f}\".format(model.score(scaled_x_train, y_train)))\n",
    "print(\"Accuracy score (validation): {0:.3f}\".format(model.score(scaled_x_val, y_val)))"
   ]
  },
  {
   "cell_type": "code",
   "execution_count": null,
   "metadata": {
    "colab": {
     "base_uri": "https://localhost:8080/",
     "height": 480
    },
    "executionInfo": {
     "elapsed": 976,
     "status": "ok",
     "timestamp": 1690564710887,
     "user": {
      "displayName": "Parisa Karimi",
      "userId": "12754741530182663549"
     },
     "user_tz": -210
    },
    "id": "6NFyG8dJ4Sb6",
    "outputId": "cc02745c-e23a-4c01-91d5-b5d3258395f5"
   },
   "outputs": [
    {
     "data": {
      "image/png": "[encoded data removed]",
      "text/plain": [
       "<Figure size 640x480 with 1 Axes>"
      ]
     },
     "metadata": {},
     "output_type": "display_data"
    }
   ],
   "source": [
    "# ROC Curve\n",
    "from sklearn.metrics import roc_auc_score\n",
    "from sklearn.metrics import roc_curve\n",
    "from matplotlib import pyplot\n",
    "GXB_roc_auc = roc_auc_score(y_val, model.predict(scaled_x_val))\n",
    "fpr, tpr, thresholds = roc_curve(y_val, model.predict_proba(scaled_x_val)[:,1])\n",
    "pyplot.figure()\n",
    "pyplot.plot(fpr, tpr, label='XGBoost (area = %0.2f)' % GXB_roc_auc)\n",
    "pyplot.plot([0, 1], [0, 1],'r--')\n",
    "pyplot.xlim([0.0, 1.0])\n",
    "pyplot.ylim([0.0, 1.05])\n",
    "pyplot.xlabel('False Positive Rate')\n",
    "pyplot.ylabel('True Positive Rate')\n",
    "pyplot.title('Receiver operating characteristic')\n",
    "pyplot.legend(loc=\"lower right\")\n",
    "pyplot.savefig('XGBoost_ROC')\n",
    "pyplot.show()"
   ]
  },
  {
   "cell_type": "code",
   "execution_count": null,
   "metadata": {
    "colab": {
     "base_uri": "https://localhost:8080/"
    },
    "executionInfo": {
     "elapsed": 380,
     "status": "ok",
     "timestamp": 1690564813925,
     "user": {
      "displayName": "Parisa Karimi",
      "userId": "12754741530182663549"
     },
     "user_tz": -210
    },
    "id": "UYDpZbj14Sb7",
    "outputId": "4367a877-eaa6-4c82-e54d-6c9f70749203"
   },
   "outputs": [
    {
     "name": "stdout",
     "output_type": "stream",
     "text": [
      "              precision    recall  f1-score   support\n",
      "\n",
      "           0       0.95      0.99      0.97       295\n",
      "           1       0.98      0.89      0.93       136\n",
      "\n",
      "    accuracy                           0.96       431\n",
      "   macro avg       0.96      0.94      0.95       431\n",
      "weighted avg       0.96      0.96      0.96       431\n",
      "\n",
      "Confusion Matrix : \n",
      " [[292   3]\n",
      " [ 15 121]]\n",
      "Sensitivity :  0.9898305084745763\n",
      "Specificity :  0.8897058823529411\n",
      "f1 score: 0.9307692307692308\n"
     ]
    }
   ],
   "source": [
    "#Confusion matrix, Accuracy, sensitivity and specificity\n",
    "from sklearn.metrics import confusion_matrix\n",
    "from sklearn.metrics import classification_report\n",
    "from sklearn.metrics import mean_squared_error\n",
    "from sklearn.metrics import f1_score\n",
    "from sklearn import metrics\n",
    "\n",
    "\n",
    "print(classification_report(y_val,y_pred))\n",
    "cm = confusion_matrix(y_val, y_pred)\n",
    "print('Confusion Matrix : \\n', cm)\n",
    "\n",
    "total1=sum(sum(cm))\n",
    "#####from confusion matrix calculate accuracy\n",
    "\n",
    "sensitivity = cm[0,0]/(cm[0,0]+cm[0,1])\n",
    "print('Sensitivity : ', sensitivity )\n",
    "specificity = cm[1,1]/(cm[1,0]+cm[1,1])\n",
    "print('Specificity : ', specificity)\n",
    "print('f1 score:', f1_score(y_val, y_pred))"
   ]
  },
  {
   "cell_type": "code",
   "execution_count": null,
   "metadata": {
    "colab": {
     "base_uri": "https://localhost:8080/",
     "height": 452
    },
    "executionInfo": {
     "elapsed": 529,
     "status": "ok",
     "timestamp": 1690564821342,
     "user": {
      "displayName": "Parisa Karimi",
      "userId": "12754741530182663549"
     },
     "user_tz": -210
    },
    "id": "A0tqMC0t4ScC",
    "outputId": "c3bb3846-27ae-42d3-b670-549388f0411a"
   },
   "outputs": [
    {
     "data": {
      "text/plain": [
       "<Axes: >"
      ]
     },
     "execution_count": 37,
     "metadata": {},
     "output_type": "execute_result"
    },
    {
     "data": {
      "image/png": "[encoded data removed]",
      "text/plain": [
       "<Figure size 640x480 with 2 Axes>"
      ]
     },
     "metadata": {},
     "output_type": "display_data"
    }
   ],
   "source": [
    "# visualize confusion matrix with seaborn heatmap\n",
    "\n",
    "cm_matrix = pd.DataFrame(data=cm, columns=['Actual Positive:1', 'Actual Negative:0'],\n",
    "                                 index=['Predict Positive:1', 'Predict Negative:0'])\n",
    "\n",
    "sns.heatmap(cm_matrix, annot=True, fmt='d', cmap='YlGnBu')"
   ]
  }
 ],
 "metadata": {
  "colab": {
   "provenance": []
  },
  "kernelspec": {
   "display_name": "Python 3 (ipykernel)",
   "language": "python",
   "name": "python3"
  },
  "language_info": {
   "codemirror_mode": {
    "name": "ipython",
    "version": 3
   },
   "file_extension": ".py",
   "mimetype": "text/x-python",
   "name": "python",
   "nbconvert_exporter": "python",
   "pygments_lexer": "ipython3",
   "version": "3.9.0"
  }
 },
 "nbformat": 4,
 "nbformat_minor": 1
}
