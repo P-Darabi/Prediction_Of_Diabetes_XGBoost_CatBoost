{
 "cells": [
  {
   "cell_type": "markdown",
   "metadata": {
    "colab": {
     "base_uri": "https://localhost:8080/"
    },
    "executionInfo": {
     "elapsed": 50426,
     "status": "ok",
     "timestamp": 1690573596255,
     "user": {
      "displayName": "Parisa Karimi",
      "userId": "12754741530182663549"
     },
     "user_tz": -210
    },
    "id": "3mFxADPn4V6A",
    "outputId": "b5d248ea-b43f-40fc-b422-9839e63cb8c8"
   },
   "source": [
    "<h1 align=center style=\"line-height:200%;font-family:vazir;color:#0099cc\">\n",
    "<font face=\"vazir\" color=\"#0099cc\">\n",
    "Prediction Of Diabetes\n",
    "</font>\n",
    "</h1>"
   ]
  },
  {
   "cell_type": "markdown",
   "metadata": {},
   "source": [
    "<h2 align=left style=\"line-height:200%;font-family:camtasia;color:#0099cc\">\n",
    "<font face=\"camtasia\" color=\"#0099cc\">\n",
    "Introduction\n",
    "</font>\n",
    "</h2>\n",
    "\n",
    "<p dir=rtl style=\"direction: rtl; text-align: left; line-height:200%; font-family:camtasia; font-size:medium\">\n",
    "<font face=\"camtasia\" size=3>\n",
    "Diabetes is a chronic disease that affects millions of people worldwide and can lead to serious health complications if left untreated. Early diagnosis and prediction of diabetes can help patients receive timely treatment and prevent the onset of complications. On the other hand, XGBoost and CatBoost are powerful machine-learning models that can be used to predict diabetes based on patient data. By providing accurate predictions, these models can help healthcare professionals make informed decisions and improve patient outcomes. Once the model is trained and validated, it can be used to predict the diabetes status of new patients based on their medical data. This can be a valuable tool for healthcare professionals to identify patients who are at risk of developing diabetes and provide them with timely interventions to prevent or manage the disease\n",
    "</font>\n",
    "</p>"
   ]
  },
  {
   "cell_type": "markdown",
   "metadata": {},
   "source": [
    "<h2 align=left style=\"line-height:200%;font-family:camtasia;color:#0099cc\">\n",
    "<font face=\"camtasia\" color=\"#0099cc\">\n",
    "Import the required libraries of the project\n",
    "</font>\n",
    "</h2>\n"
   ]
  },
  {
   "cell_type": "code",
   "execution_count": 17,
   "metadata": {
    "executionInfo": {
     "elapsed": 404,
     "status": "ok",
     "timestamp": 1690584731030,
     "user": {
      "displayName": "Parisa Karimi",
      "userId": "12754741530182663549"
     },
     "user_tz": -210
    },
    "id": "rcmUda974Sbj"
   },
   "outputs": [],
   "source": [
    "# Import required libraries\n",
    "from sklearn.model_selection  import train_test_split\n",
    "from sklearn.preprocessing import StandardScaler\n",
    "from sklearn.metrics import accuracy_score\n",
    "from sklearn.model_selection import cross_val_score\n",
    "from sklearn.model_selection import GridSearchCV\n",
    "from sklearn.model_selection import StratifiedKFold\n",
    "from sklearn.metrics import roc_auc_score, roc_curve\n",
    "from sklearn.metrics import confusion_matrix\n",
    "from sklearn.metrics import classification_report\n",
    "from sklearn.metrics import f1_score\n",
    "from sklearn import metrics\n",
    "from matplotlib import pyplot\n",
    "import seaborn as sns\n",
    "from catboost import CatBoostClassifier\n",
    "import pandas as pd\n",
    "from numpy import mean\n",
    "from numpy import std\n",
    "\n",
    "import warnings\n",
    "warnings.filterwarnings('ignore')"
   ]
  },
  {
   "cell_type": "markdown",
   "metadata": {},
   "source": [
    "<h2 align=left style=\"line-height:200%;font-family:camtasia;color:#0099cc\">\n",
    "<font face=\"camtasia\" color=\"#0099cc\">\n",
    "Reading Dataset\n",
    "</font>\n",
    "</h2>"
   ]
  },
  {
   "cell_type": "code",
   "execution_count": 9,
   "metadata": {
    "colab": {
     "base_uri": "https://localhost:8080/",
     "height": 206
    },
    "executionInfo": {
     "elapsed": 778,
     "status": "ok",
     "timestamp": 1690573605666,
     "user": {
      "displayName": "Parisa Karimi",
      "userId": "12754741530182663549"
     },
     "user_tz": -210
    },
    "id": "KjXxHc3zBEKe",
    "outputId": "f24ab8fe-66b8-47a5-db26-d8997f697542"
   },
   "outputs": [
    {
     "data": {
      "text/html": [
       "\n",
       "\n",
       "  <div id=\"df-bca9afcd-9fad-4c5c-b1d3-d8222fab43bc\">\n",
       "    <div class=\"colab-df-container\">\n",
       "      <div>\n",
       "<style scoped>\n",
       "    .dataframe tbody tr th:only-of-type {\n",
       "        vertical-align: middle;\n",
       "    }\n",
       "\n",
       "    .dataframe tbody tr th {\n",
       "        vertical-align: top;\n",
       "    }\n",
       "\n",
       "    .dataframe thead th {\n",
       "        text-align: right;\n",
       "    }\n",
       "</style>\n",
       "<table border=\"1\" class=\"dataframe\">\n",
       "  <thead>\n",
       "    <tr style=\"text-align: right;\">\n",
       "      <th></th>\n",
       "      <th>Age</th>\n",
       "      <th>Gender</th>\n",
       "      <th>BMI</th>\n",
       "      <th>SBP</th>\n",
       "      <th>DBP</th>\n",
       "      <th>FPG</th>\n",
       "      <th>Chol</th>\n",
       "      <th>Tri</th>\n",
       "      <th>HDL</th>\n",
       "      <th>LDL</th>\n",
       "      <th>ALT</th>\n",
       "      <th>BUN</th>\n",
       "      <th>CCR</th>\n",
       "      <th>FFPG</th>\n",
       "      <th>smoking</th>\n",
       "      <th>drinking</th>\n",
       "      <th>family_histroy</th>\n",
       "      <th>Diabetes</th>\n",
       "    </tr>\n",
       "  </thead>\n",
       "  <tbody>\n",
       "    <tr>\n",
       "      <th>0</th>\n",
       "      <td>26</td>\n",
       "      <td>1</td>\n",
       "      <td>20.1</td>\n",
       "      <td>119</td>\n",
       "      <td>81</td>\n",
       "      <td>5.80</td>\n",
       "      <td>4.36</td>\n",
       "      <td>0.86</td>\n",
       "      <td>0.90</td>\n",
       "      <td>2.43</td>\n",
       "      <td>12.0</td>\n",
       "      <td>5.40</td>\n",
       "      <td>63.8</td>\n",
       "      <td>5.40</td>\n",
       "      <td>3.0</td>\n",
       "      <td>3.0</td>\n",
       "      <td>0</td>\n",
       "      <td>0</td>\n",
       "    </tr>\n",
       "    <tr>\n",
       "      <th>1</th>\n",
       "      <td>40</td>\n",
       "      <td>1</td>\n",
       "      <td>17.7</td>\n",
       "      <td>97</td>\n",
       "      <td>54</td>\n",
       "      <td>4.60</td>\n",
       "      <td>3.70</td>\n",
       "      <td>1.02</td>\n",
       "      <td>1.50</td>\n",
       "      <td>2.04</td>\n",
       "      <td>9.2</td>\n",
       "      <td>3.70</td>\n",
       "      <td>70.3</td>\n",
       "      <td>4.10</td>\n",
       "      <td>1.0</td>\n",
       "      <td>1.0</td>\n",
       "      <td>0</td>\n",
       "      <td>0</td>\n",
       "    </tr>\n",
       "    <tr>\n",
       "      <th>2</th>\n",
       "      <td>40</td>\n",
       "      <td>2</td>\n",
       "      <td>19.7</td>\n",
       "      <td>85</td>\n",
       "      <td>53</td>\n",
       "      <td>5.30</td>\n",
       "      <td>5.87</td>\n",
       "      <td>1.29</td>\n",
       "      <td>1.75</td>\n",
       "      <td>3.37</td>\n",
       "      <td>10.1</td>\n",
       "      <td>4.10</td>\n",
       "      <td>61.1</td>\n",
       "      <td>4.85</td>\n",
       "      <td>3.0</td>\n",
       "      <td>3.0</td>\n",
       "      <td>0</td>\n",
       "      <td>0</td>\n",
       "    </tr>\n",
       "    <tr>\n",
       "      <th>3</th>\n",
       "      <td>43</td>\n",
       "      <td>1</td>\n",
       "      <td>23.1</td>\n",
       "      <td>111</td>\n",
       "      <td>71</td>\n",
       "      <td>4.50</td>\n",
       "      <td>4.05</td>\n",
       "      <td>0.74</td>\n",
       "      <td>1.27</td>\n",
       "      <td>2.60</td>\n",
       "      <td>36.5</td>\n",
       "      <td>4.38</td>\n",
       "      <td>73.4</td>\n",
       "      <td>5.30</td>\n",
       "      <td>2.0</td>\n",
       "      <td>3.0</td>\n",
       "      <td>0</td>\n",
       "      <td>0</td>\n",
       "    </tr>\n",
       "    <tr>\n",
       "      <th>4</th>\n",
       "      <td>36</td>\n",
       "      <td>1</td>\n",
       "      <td>26.5</td>\n",
       "      <td>130</td>\n",
       "      <td>82</td>\n",
       "      <td>5.54</td>\n",
       "      <td>6.69</td>\n",
       "      <td>3.49</td>\n",
       "      <td>0.91</td>\n",
       "      <td>3.64</td>\n",
       "      <td>69.3</td>\n",
       "      <td>3.86</td>\n",
       "      <td>67.5</td>\n",
       "      <td>5.53</td>\n",
       "      <td>3.0</td>\n",
       "      <td>3.0</td>\n",
       "      <td>0</td>\n",
       "      <td>0</td>\n",
       "    </tr>\n",
       "  </tbody>\n",
       "</table>\n",
       "</div>\n",
       "      <button class=\"colab-df-convert\" onclick=\"convertToInteractive('df-bca9afcd-9fad-4c5c-b1d3-d8222fab43bc')\"\n",
       "              title=\"Convert this dataframe to an interactive table.\"\n",
       "              style=\"display:none;\">\n",
       "\n",
       "  <svg xmlns=\"http://www.w3.org/2000/svg\" height=\"24px\"viewBox=\"0 0 24 24\"\n",
       "       width=\"24px\">\n",
       "    <path d=\"M0 0h24v24H0V0z\" fill=\"none\"/>\n",
       "    <path d=\"M18.56 5.44l.94 2.06.94-2.06 2.06-.94-2.06-.94-.94-2.06-.94 2.06-2.06.94zm-11 1L8.5 8.5l.94-2.06 2.06-.94-2.06-.94L8.5 2.5l-.94 2.06-2.06.94zm10 10l.94 2.06.94-2.06 2.06-.94-2.06-.94-.94-2.06-.94 2.06-2.06.94z\"/><path d=\"M17.41 7.96l-1.37-1.37c-.4-.4-.92-.59-1.43-.59-.52 0-1.04.2-1.43.59L10.3 9.45l-7.72 7.72c-.78.78-.78 2.05 0 2.83L4 21.41c.39.39.9.59 1.41.59.51 0 1.02-.2 1.41-.59l7.78-7.78 2.81-2.81c.8-.78.8-2.07 0-2.86zM5.41 20L4 18.59l7.72-7.72 1.47 1.35L5.41 20z\"/>\n",
       "  </svg>\n",
       "      </button>\n",
       "\n",
       "\n",
       "\n",
       "    <div id=\"df-eefb21ca-09a1-4668-907d-c352cb0ef60f\">\n",
       "      <button class=\"colab-df-quickchart\" onclick=\"quickchart('df-eefb21ca-09a1-4668-907d-c352cb0ef60f')\"\n",
       "              title=\"Suggest charts.\"\n",
       "              style=\"display:none;\">\n",
       "\n",
       "<svg xmlns=\"http://www.w3.org/2000/svg\" height=\"24px\"viewBox=\"0 0 24 24\"\n",
       "     width=\"24px\">\n",
       "    <g>\n",
       "        <path d=\"M19 3H5c-1.1 0-2 .9-2 2v14c0 1.1.9 2 2 2h14c1.1 0 2-.9 2-2V5c0-1.1-.9-2-2-2zM9 17H7v-7h2v7zm4 0h-2V7h2v10zm4 0h-2v-4h2v4z\"/>\n",
       "    </g>\n",
       "</svg>\n",
       "      </button>\n",
       "    </div>\n",
       "\n",
       "<style>\n",
       "  .colab-df-quickchart {\n",
       "    background-color: #E8F0FE;\n",
       "    border: none;\n",
       "    border-radius: 50%;\n",
       "    cursor: pointer;\n",
       "    display: none;\n",
       "    fill: #1967D2;\n",
       "    height: 32px;\n",
       "    padding: 0 0 0 0;\n",
       "    width: 32px;\n",
       "  }\n",
       "\n",
       "  .colab-df-quickchart:hover {\n",
       "    background-color: #E2EBFA;\n",
       "    box-shadow: 0px 1px 2px rgba(60, 64, 67, 0.3), 0px 1px 3px 1px rgba(60, 64, 67, 0.15);\n",
       "    fill: #174EA6;\n",
       "  }\n",
       "\n",
       "  [theme=dark] .colab-df-quickchart {\n",
       "    background-color: #3B4455;\n",
       "    fill: #D2E3FC;\n",
       "  }\n",
       "\n",
       "  [theme=dark] .colab-df-quickchart:hover {\n",
       "    background-color: #434B5C;\n",
       "    box-shadow: 0px 1px 3px 1px rgba(0, 0, 0, 0.15);\n",
       "    filter: drop-shadow(0px 1px 2px rgba(0, 0, 0, 0.3));\n",
       "    fill: #FFFFFF;\n",
       "  }\n",
       "</style>\n",
       "\n",
       "    <script>\n",
       "      async function quickchart(key) {\n",
       "        const containerElement = document.querySelector('#' + key);\n",
       "        const charts = await google.colab.kernel.invokeFunction(\n",
       "            'suggestCharts', [key], {});\n",
       "      }\n",
       "    </script>\n",
       "\n",
       "      <script>\n",
       "\n",
       "function displayQuickchartButton(domScope) {\n",
       "  let quickchartButtonEl =\n",
       "    domScope.querySelector('#df-eefb21ca-09a1-4668-907d-c352cb0ef60f button.colab-df-quickchart');\n",
       "  quickchartButtonEl.style.display =\n",
       "    google.colab.kernel.accessAllowed ? 'block' : 'none';\n",
       "}\n",
       "\n",
       "        displayQuickchartButton(document);\n",
       "      </script>\n",
       "      <style>\n",
       "    .colab-df-container {\n",
       "      display:flex;\n",
       "      flex-wrap:wrap;\n",
       "      gap: 12px;\n",
       "    }\n",
       "\n",
       "    .colab-df-convert {\n",
       "      background-color: #E8F0FE;\n",
       "      border: none;\n",
       "      border-radius: 50%;\n",
       "      cursor: pointer;\n",
       "      display: none;\n",
       "      fill: #1967D2;\n",
       "      height: 32px;\n",
       "      padding: 0 0 0 0;\n",
       "      width: 32px;\n",
       "    }\n",
       "\n",
       "    .colab-df-convert:hover {\n",
       "      background-color: #E2EBFA;\n",
       "      box-shadow: 0px 1px 2px rgba(60, 64, 67, 0.3), 0px 1px 3px 1px rgba(60, 64, 67, 0.15);\n",
       "      fill: #174EA6;\n",
       "    }\n",
       "\n",
       "    [theme=dark] .colab-df-convert {\n",
       "      background-color: #3B4455;\n",
       "      fill: #D2E3FC;\n",
       "    }\n",
       "\n",
       "    [theme=dark] .colab-df-convert:hover {\n",
       "      background-color: #434B5C;\n",
       "      box-shadow: 0px 1px 3px 1px rgba(0, 0, 0, 0.15);\n",
       "      filter: drop-shadow(0px 1px 2px rgba(0, 0, 0, 0.3));\n",
       "      fill: #FFFFFF;\n",
       "    }\n",
       "  </style>\n",
       "\n",
       "      <script>\n",
       "        const buttonEl =\n",
       "          document.querySelector('#df-bca9afcd-9fad-4c5c-b1d3-d8222fab43bc button.colab-df-convert');\n",
       "        buttonEl.style.display =\n",
       "          google.colab.kernel.accessAllowed ? 'block' : 'none';\n",
       "\n",
       "        async function convertToInteractive(key) {\n",
       "          const element = document.querySelector('#df-bca9afcd-9fad-4c5c-b1d3-d8222fab43bc');\n",
       "          const dataTable =\n",
       "            await google.colab.kernel.invokeFunction('convertToInteractive',\n",
       "                                                     [key], {});\n",
       "          if (!dataTable) return;\n",
       "\n",
       "          const docLinkHtml = 'Like what you see? Visit the ' +\n",
       "            '<a target=\"_blank\" href=https://colab.research.google.com/notebooks/data_table.ipynb>data table notebook</a>'\n",
       "            + ' to learn more about interactive tables.';\n",
       "          element.innerHTML = '';\n",
       "          dataTable['output_type'] = 'display_data';\n",
       "          await google.colab.output.renderOutput(dataTable, element);\n",
       "          const docLink = document.createElement('div');\n",
       "          docLink.innerHTML = docLinkHtml;\n",
       "          element.appendChild(docLink);\n",
       "        }\n",
       "      </script>\n",
       "    </div>\n",
       "  </div>\n"
      ],
      "text/plain": [
       "   Age  Gender   BMI  SBP  DBP   FPG  Chol   Tri   HDL   LDL   ALT   BUN  \\\n",
       "0   26       1  20.1  119   81  5.80  4.36  0.86  0.90  2.43  12.0  5.40   \n",
       "1   40       1  17.7   97   54  4.60  3.70  1.02  1.50  2.04   9.2  3.70   \n",
       "2   40       2  19.7   85   53  5.30  5.87  1.29  1.75  3.37  10.1  4.10   \n",
       "3   43       1  23.1  111   71  4.50  4.05  0.74  1.27  2.60  36.5  4.38   \n",
       "4   36       1  26.5  130   82  5.54  6.69  3.49  0.91  3.64  69.3  3.86   \n",
       "\n",
       "    CCR  FFPG  smoking  drinking  family_histroy  Diabetes  \n",
       "0  63.8  5.40      3.0       3.0               0         0  \n",
       "1  70.3  4.10      1.0       1.0               0         0  \n",
       "2  61.1  4.85      3.0       3.0               0         0  \n",
       "3  73.4  5.30      2.0       3.0               0         0  \n",
       "4  67.5  5.53      3.0       3.0               0         0  "
      ]
     },
     "execution_count": 9,
     "metadata": {},
     "output_type": "execute_result"
    }
   ],
   "source": [
    "diabetes = pd.read_csv('/content/drive/My Drive/diabetes.csv')\n",
    "diabetes.head()"
   ]
  },
  {
   "cell_type": "markdown",
   "metadata": {},
   "source": [
    "<h2 align=left style=\"line-height:200%;font-family:camtasia;color:#0099cc\">\n",
    "<font face=\"camtasia\" color=\"#0099cc\">\n",
    "More details about Dataset\n",
    "</font>\n",
    "</h2>"
   ]
  },
  {
   "cell_type": "code",
   "execution_count": null,
   "metadata": {},
   "outputs": [],
   "source": [
    "diabetes.info()"
   ]
  },
  {
   "cell_type": "code",
   "execution_count": null,
   "metadata": {},
   "outputs": [],
   "source": [
    "diabetes.describe()"
   ]
  },
  {
   "cell_type": "code",
   "execution_count": null,
   "metadata": {},
   "outputs": [],
   "source": [
    "# Calculate the correlation matrix\n",
    "corr_matrix = diabetes.corr()\n",
    "fig, ax = pyplot.subplots(figsize=(30, 20))\n",
    "sns.heatmap(corr_matrix, cmap='coolwarm', annot=True, ax=ax)\n",
    "ax.set_title('Correlation Matrix')\n",
    "pyplot.show()"
   ]
  },
  {
   "cell_type": "code",
   "execution_count": 10,
   "metadata": {
    "executionInfo": {
     "elapsed": 394,
     "status": "ok",
     "timestamp": 1690573613125,
     "user": {
      "displayName": "Parisa Karimi",
      "userId": "12754741530182663549"
     },
     "user_tz": -210
    },
    "id": "pRgAakng4Sbx"
   },
   "outputs": [],
   "source": [
    "#Split dataset\n",
    "x= diabetes.drop(columns='Diabetes')\n",
    "y= diabetes['Diabetes']\n",
    "X_train, X_val, y_train, y_val=train_test_split(x,y, shuffle=True, random_state=12, test_size=0.1)"
   ]
  },
  {
   "cell_type": "code",
   "execution_count": 11,
   "metadata": {
    "executionInfo": {
     "elapsed": 10,
     "status": "ok",
     "timestamp": 1690573614791,
     "user": {
      "displayName": "Parisa Karimi",
      "userId": "12754741530182663549"
     },
     "user_tz": -210
    },
    "id": "Bafhgwb14Sby"
   },
   "outputs": [],
   "source": [
    "# Scale the dataset using StandardScaler\n",
    "scaler = StandardScaler()\n",
    "\n",
    "X_V = X_val.values\n",
    "scaled_x_train = scaler.fit_transform(X_train)\n",
    "scaled_x_val = scaler.transform(X_V)"
   ]
  },
  {
   "cell_type": "code",
   "execution_count": 15,
   "metadata": {
    "colab": {
     "base_uri": "https://localhost:8080/"
    },
    "executionInfo": {
     "elapsed": 491723,
     "status": "ok",
     "timestamp": 1690584529558,
     "user": {
      "displayName": "Parisa Karimi",
      "userId": "12754741530182663549"
     },
     "user_tz": -210
    },
    "id": "Z_800M4OA2dK",
    "outputId": "ff3e237c-72fb-45a6-a7bf-fe1078562872"
   },
   "outputs": [
    {
     "name": "stdout",
     "output_type": "stream",
     "text": [
      "0:\tlearn: 0.6172120\ttotal: 48.2ms\tremaining: 7.17s\n",
      "1:\tlearn: 0.5537811\ttotal: 50.7ms\tremaining: 3.75s\n",
      "2:\tlearn: 0.5033092\ttotal: 52.3ms\tremaining: 2.56s\n",
      "3:\tlearn: 0.4586438\ttotal: 53.8ms\tremaining: 1.96s\n",
      "4:\tlearn: 0.4227618\ttotal: 55.7ms\tremaining: 1.62s\n",
      "5:\tlearn: 0.3906346\ttotal: 57.2ms\tremaining: 1.37s\n",
      "6:\tlearn: 0.3604474\ttotal: 58.7ms\tremaining: 1.2s\n",
      "7:\tlearn: 0.3382965\ttotal: 60.3ms\tremaining: 1.07s\n",
      "8:\tlearn: 0.3150805\ttotal: 61.9ms\tremaining: 970ms\n",
      "9:\tlearn: 0.2952771\ttotal: 63.5ms\tremaining: 889ms\n",
      "10:\tlearn: 0.2789241\ttotal: 65ms\tremaining: 822ms\n",
      "11:\tlearn: 0.2635316\ttotal: 66.6ms\tremaining: 766ms\n",
      "12:\tlearn: 0.2488192\ttotal: 68ms\tremaining: 717ms\n",
      "13:\tlearn: 0.2370366\ttotal: 69.5ms\tremaining: 675ms\n",
      "14:\tlearn: 0.2263655\ttotal: 71ms\tremaining: 639ms\n",
      "15:\tlearn: 0.2156871\ttotal: 72.3ms\tremaining: 605ms\n",
      "16:\tlearn: 0.2067856\ttotal: 73.8ms\tremaining: 577ms\n",
      "17:\tlearn: 0.2000012\ttotal: 75.3ms\tremaining: 552ms\n",
      "18:\tlearn: 0.1918062\ttotal: 76.8ms\tremaining: 529ms\n",
      "19:\tlearn: 0.1854921\ttotal: 78.3ms\tremaining: 509ms\n",
      "20:\tlearn: 0.1795214\ttotal: 79.9ms\tremaining: 491ms\n",
      "21:\tlearn: 0.1735741\ttotal: 81.1ms\tremaining: 472ms\n",
      "22:\tlearn: 0.1683223\ttotal: 82.7ms\tremaining: 457ms\n",
      "23:\tlearn: 0.1641431\ttotal: 84.2ms\tremaining: 442ms\n",
      "24:\tlearn: 0.1597286\ttotal: 85.5ms\tremaining: 427ms\n",
      "25:\tlearn: 0.1559363\ttotal: 86.8ms\tremaining: 414ms\n",
      "26:\tlearn: 0.1527918\ttotal: 88.1ms\tremaining: 402ms\n",
      "27:\tlearn: 0.1499831\ttotal: 89.7ms\tremaining: 391ms\n",
      "28:\tlearn: 0.1468957\ttotal: 91.1ms\tremaining: 380ms\n",
      "29:\tlearn: 0.1448367\ttotal: 92.6ms\tremaining: 371ms\n",
      "30:\tlearn: 0.1422995\ttotal: 94.1ms\tremaining: 361ms\n",
      "31:\tlearn: 0.1402664\ttotal: 95.4ms\tremaining: 352ms\n",
      "32:\tlearn: 0.1380060\ttotal: 97ms\tremaining: 344ms\n",
      "33:\tlearn: 0.1360083\ttotal: 98.4ms\tremaining: 336ms\n",
      "34:\tlearn: 0.1342765\ttotal: 99.8ms\tremaining: 328ms\n",
      "35:\tlearn: 0.1327000\ttotal: 101ms\tremaining: 321ms\n",
      "36:\tlearn: 0.1314570\ttotal: 103ms\tremaining: 313ms\n",
      "37:\tlearn: 0.1298827\ttotal: 104ms\tremaining: 307ms\n",
      "38:\tlearn: 0.1285706\ttotal: 105ms\tremaining: 300ms\n",
      "39:\tlearn: 0.1273519\ttotal: 107ms\tremaining: 294ms\n",
      "40:\tlearn: 0.1261799\ttotal: 109ms\tremaining: 289ms\n",
      "41:\tlearn: 0.1250677\ttotal: 110ms\tremaining: 283ms\n",
      "42:\tlearn: 0.1241343\ttotal: 112ms\tremaining: 278ms\n",
      "43:\tlearn: 0.1230125\ttotal: 113ms\tremaining: 273ms\n",
      "44:\tlearn: 0.1222601\ttotal: 115ms\tremaining: 268ms\n",
      "45:\tlearn: 0.1213358\ttotal: 116ms\tremaining: 263ms\n",
      "46:\tlearn: 0.1205024\ttotal: 118ms\tremaining: 258ms\n",
      "47:\tlearn: 0.1199874\ttotal: 119ms\tremaining: 253ms\n",
      "48:\tlearn: 0.1192572\ttotal: 121ms\tremaining: 249ms\n",
      "49:\tlearn: 0.1188711\ttotal: 122ms\tremaining: 244ms\n",
      "50:\tlearn: 0.1181186\ttotal: 124ms\tremaining: 240ms\n",
      "51:\tlearn: 0.1175045\ttotal: 125ms\tremaining: 236ms\n",
      "52:\tlearn: 0.1168063\ttotal: 126ms\tremaining: 231ms\n",
      "53:\tlearn: 0.1160157\ttotal: 128ms\tremaining: 227ms\n",
      "54:\tlearn: 0.1154871\ttotal: 130ms\tremaining: 224ms\n",
      "55:\tlearn: 0.1149142\ttotal: 131ms\tremaining: 221ms\n",
      "56:\tlearn: 0.1143957\ttotal: 133ms\tremaining: 217ms\n",
      "57:\tlearn: 0.1139983\ttotal: 135ms\tremaining: 214ms\n",
      "58:\tlearn: 0.1137721\ttotal: 137ms\tremaining: 211ms\n",
      "59:\tlearn: 0.1134127\ttotal: 138ms\tremaining: 207ms\n",
      "60:\tlearn: 0.1129940\ttotal: 140ms\tremaining: 204ms\n",
      "61:\tlearn: 0.1125004\ttotal: 141ms\tremaining: 200ms\n",
      "62:\tlearn: 0.1121929\ttotal: 143ms\tremaining: 197ms\n",
      "63:\tlearn: 0.1117110\ttotal: 144ms\tremaining: 194ms\n",
      "64:\tlearn: 0.1112117\ttotal: 146ms\tremaining: 191ms\n",
      "65:\tlearn: 0.1106133\ttotal: 148ms\tremaining: 188ms\n",
      "66:\tlearn: 0.1102994\ttotal: 149ms\tremaining: 185ms\n",
      "67:\tlearn: 0.1099572\ttotal: 151ms\tremaining: 182ms\n",
      "68:\tlearn: 0.1096372\ttotal: 153ms\tremaining: 179ms\n",
      "69:\tlearn: 0.1093020\ttotal: 154ms\tremaining: 176ms\n",
      "70:\tlearn: 0.1090062\ttotal: 156ms\tremaining: 173ms\n",
      "71:\tlearn: 0.1088405\ttotal: 158ms\tremaining: 171ms\n",
      "72:\tlearn: 0.1087849\ttotal: 159ms\tremaining: 168ms\n",
      "73:\tlearn: 0.1084497\ttotal: 161ms\tremaining: 165ms\n",
      "74:\tlearn: 0.1081583\ttotal: 162ms\tremaining: 162ms\n",
      "75:\tlearn: 0.1079040\ttotal: 164ms\tremaining: 159ms\n",
      "76:\tlearn: 0.1075585\ttotal: 165ms\tremaining: 157ms\n",
      "77:\tlearn: 0.1072266\ttotal: 167ms\tremaining: 154ms\n",
      "78:\tlearn: 0.1070416\ttotal: 169ms\tremaining: 151ms\n",
      "79:\tlearn: 0.1068213\ttotal: 170ms\tremaining: 149ms\n",
      "80:\tlearn: 0.1065357\ttotal: 171ms\tremaining: 146ms\n",
      "81:\tlearn: 0.1063059\ttotal: 173ms\tremaining: 143ms\n",
      "82:\tlearn: 0.1059668\ttotal: 175ms\tremaining: 141ms\n",
      "83:\tlearn: 0.1058163\ttotal: 176ms\tremaining: 138ms\n",
      "84:\tlearn: 0.1053533\ttotal: 178ms\tremaining: 136ms\n",
      "85:\tlearn: 0.1051922\ttotal: 179ms\tremaining: 133ms\n",
      "86:\tlearn: 0.1050860\ttotal: 180ms\tremaining: 131ms\n",
      "87:\tlearn: 0.1050677\ttotal: 182ms\tremaining: 128ms\n",
      "88:\tlearn: 0.1048603\ttotal: 183ms\tremaining: 126ms\n",
      "89:\tlearn: 0.1047480\ttotal: 185ms\tremaining: 123ms\n",
      "90:\tlearn: 0.1045230\ttotal: 186ms\tremaining: 121ms\n",
      "91:\tlearn: 0.1043899\ttotal: 188ms\tremaining: 118ms\n",
      "92:\tlearn: 0.1042431\ttotal: 189ms\tremaining: 116ms\n",
      "93:\tlearn: 0.1042281\ttotal: 191ms\tremaining: 114ms\n",
      "94:\tlearn: 0.1039724\ttotal: 193ms\tremaining: 112ms\n",
      "95:\tlearn: 0.1038656\ttotal: 194ms\tremaining: 109ms\n",
      "96:\tlearn: 0.1038244\ttotal: 196ms\tremaining: 107ms\n",
      "97:\tlearn: 0.1037801\ttotal: 197ms\tremaining: 105ms\n",
      "98:\tlearn: 0.1037300\ttotal: 199ms\tremaining: 102ms\n",
      "99:\tlearn: 0.1035722\ttotal: 200ms\tremaining: 100ms\n",
      "100:\tlearn: 0.1035519\ttotal: 202ms\tremaining: 97.9ms\n",
      "101:\tlearn: 0.1035400\ttotal: 203ms\tremaining: 95.6ms\n",
      "102:\tlearn: 0.1034312\ttotal: 205ms\tremaining: 93.4ms\n",
      "103:\tlearn: 0.1034210\ttotal: 206ms\tremaining: 91.2ms\n",
      "104:\tlearn: 0.1034097\ttotal: 208ms\tremaining: 89ms\n",
      "105:\tlearn: 0.1033929\ttotal: 209ms\tremaining: 86.8ms\n",
      "106:\tlearn: 0.1033798\ttotal: 211ms\tremaining: 84.6ms\n",
      "107:\tlearn: 0.1030911\ttotal: 212ms\tremaining: 82.5ms\n",
      "108:\tlearn: 0.1030808\ttotal: 214ms\tremaining: 80.4ms\n",
      "109:\tlearn: 0.1030685\ttotal: 215ms\tremaining: 78.2ms\n",
      "110:\tlearn: 0.1030101\ttotal: 217ms\tremaining: 76.1ms\n",
      "111:\tlearn: 0.1029957\ttotal: 218ms\tremaining: 74ms\n",
      "112:\tlearn: 0.1028424\ttotal: 220ms\tremaining: 71.9ms\n",
      "113:\tlearn: 0.1026799\ttotal: 221ms\tremaining: 69.8ms\n",
      "114:\tlearn: 0.1026538\ttotal: 222ms\tremaining: 67.7ms\n",
      "115:\tlearn: 0.1024358\ttotal: 224ms\tremaining: 65.6ms\n",
      "116:\tlearn: 0.1023980\ttotal: 225ms\tremaining: 63.5ms\n",
      "117:\tlearn: 0.1023626\ttotal: 227ms\tremaining: 61.5ms\n",
      "118:\tlearn: 0.1022323\ttotal: 228ms\tremaining: 59.4ms\n",
      "119:\tlearn: 0.1022073\ttotal: 230ms\tremaining: 57.4ms\n",
      "120:\tlearn: 0.1021913\ttotal: 231ms\tremaining: 55.3ms\n",
      "121:\tlearn: 0.1021820\ttotal: 232ms\tremaining: 53.3ms\n",
      "122:\tlearn: 0.1021706\ttotal: 234ms\tremaining: 51.3ms\n",
      "123:\tlearn: 0.1018682\ttotal: 238ms\tremaining: 49.8ms\n",
      "124:\tlearn: 0.1016551\ttotal: 241ms\tremaining: 48.2ms\n",
      "125:\tlearn: 0.1016342\ttotal: 242ms\tremaining: 46.2ms\n",
      "126:\tlearn: 0.1013957\ttotal: 244ms\tremaining: 44.2ms\n",
      "127:\tlearn: 0.1013593\ttotal: 245ms\tremaining: 42.2ms\n",
      "128:\tlearn: 0.1013262\ttotal: 247ms\tremaining: 40.2ms\n",
      "129:\tlearn: 0.1010106\ttotal: 248ms\tremaining: 38.2ms\n",
      "130:\tlearn: 0.1009935\ttotal: 250ms\tremaining: 36.2ms\n",
      "131:\tlearn: 0.1008669\ttotal: 251ms\tremaining: 34.3ms\n",
      "132:\tlearn: 0.1006838\ttotal: 253ms\tremaining: 32.3ms\n",
      "133:\tlearn: 0.1006538\ttotal: 254ms\tremaining: 30.4ms\n",
      "134:\tlearn: 0.1006391\ttotal: 256ms\tremaining: 28.4ms\n",
      "135:\tlearn: 0.1006309\ttotal: 257ms\tremaining: 26.5ms\n",
      "136:\tlearn: 0.1005327\ttotal: 259ms\tremaining: 24.6ms\n",
      "137:\tlearn: 0.1005153\ttotal: 260ms\tremaining: 22.6ms\n",
      "138:\tlearn: 0.1002976\ttotal: 262ms\tremaining: 20.7ms\n",
      "139:\tlearn: 0.1002886\ttotal: 263ms\tremaining: 18.8ms\n",
      "140:\tlearn: 0.1002819\ttotal: 265ms\tremaining: 16.9ms\n",
      "141:\tlearn: 0.1000431\ttotal: 266ms\tremaining: 15ms\n",
      "142:\tlearn: 0.1000325\ttotal: 268ms\tremaining: 13.1ms\n",
      "143:\tlearn: 0.1000080\ttotal: 269ms\tremaining: 11.2ms\n",
      "144:\tlearn: 0.1000005\ttotal: 271ms\tremaining: 9.34ms\n",
      "145:\tlearn: 0.0999834\ttotal: 272ms\tremaining: 7.46ms\n",
      "146:\tlearn: 0.0999665\ttotal: 274ms\tremaining: 5.58ms\n",
      "147:\tlearn: 0.0999603\ttotal: 275ms\tremaining: 3.72ms\n",
      "148:\tlearn: 0.0999334\ttotal: 276ms\tremaining: 1.85ms\n",
      "149:\tlearn: 0.0997633\ttotal: 278ms\tremaining: 0us\n",
      "Best score: 0.9595\n",
      "Best parameters: {'iterations': 150, 'l2_leaf_reg': 6, 'learning_rate': 0.1, 'max_depth': 4, 'rsm': 0.6}\n"
     ]
    }
   ],
   "source": [
    "# define the hyperparameter grid\n",
    "param_grid = {\n",
    "    'iterations': [50, 100, 150],\n",
    "    'learning_rate': [0.05, 0.01, 0.1],\n",
    "    'max_depth': [2, 4, 6, 8],\n",
    "    'l2_leaf_reg' : [2,4,6,8],\n",
    "    'rsm' : [0.3,0.5,0.6],\n",
    "}\n",
    "\n",
    "\n",
    "# Define the XGBoost model\n",
    "model = CatBoostClassifier()\n",
    "\n",
    "\n",
    "# Perform grid search to find the best hyperparameters\n",
    "kfold = StratifiedKFold(n_splits=3, shuffle=True, random_state=7)\n",
    "grid_search = GridSearchCV(model, param_grid=param_grid, cv=kfold, n_jobs=-1)\n",
    "grid_search.fit(scaled_x_train,y_train)\n",
    "\n",
    "# Print the best hyperparameters and the corresponding score\n",
    "print(\"Best score: {:.4f}\".format(grid_search.best_score_))\n",
    "print(\"Best parameters: {}\".format(grid_search.best_params_))"
   ]
  },
  {
   "cell_type": "code",
   "execution_count": 20,
   "metadata": {
    "colab": {
     "base_uri": "https://localhost:8080/"
    },
    "executionInfo": {
     "elapsed": 3711,
     "status": "ok",
     "timestamp": 1690584778992,
     "user": {
      "displayName": "Parisa Karimi",
      "userId": "12754741530182663549"
     },
     "user_tz": -210
    },
    "id": "kL_F1gAP4Sb4",
    "outputId": "7e8dcb63-3510-4f0e-d2fa-bdd65e8749af"
   },
   "outputs": [
    {
     "name": "stdout",
     "output_type": "stream",
     "text": [
      "Mean Accuracy: 0.957 (0.012)\n",
      "Accuracy score (training): 0.964\n",
      "Accuracy score (validation): 0.954\n"
     ]
    }
   ],
   "source": [
    "# setup hyperparameters for catboost\n",
    "model = CatBoostClassifier(verbose=0, eval_metric='Accuracy',iterations=150,learning_rate=0.1 ,max_depth=4 ,l2_leaf_reg=6 ,rsm=0.6)\n",
    "model.fit(scaled_x_train, y_train)\n",
    "y_pred = model.predict(scaled_x_val)\n",
    "\n",
    "# define the evaluation method\n",
    "cv = StratifiedKFold(n_splits=10)\n",
    "\n",
    "# evaluate the model on the dataset\n",
    "n_scores = cross_val_score(model, scaled_x_train, y_train, scoring='accuracy', cv=cv, n_jobs=-1)\n",
    "\n",
    "# report performance\n",
    "print('Mean Accuracy: %.3f (%.3f)' % (mean(n_scores), std(n_scores)))\n",
    "print(\"Accuracy score (training): {0:.3f}\".format(model.score(scaled_x_train, y_train)))\n",
    "print(\"Accuracy score (validation): {0:.3f}\".format(model.score(scaled_x_val, y_val)))"
   ]
  },
  {
   "cell_type": "code",
   "execution_count": 21,
   "metadata": {
    "colab": {
     "base_uri": "https://localhost:8080/",
     "height": 480
    },
    "executionInfo": {
     "elapsed": 2783,
     "status": "ok",
     "timestamp": 1690584790729,
     "user": {
      "displayName": "Parisa Karimi",
      "userId": "12754741530182663549"
     },
     "user_tz": -210
    },
    "id": "6NFyG8dJ4Sb6",
    "outputId": "bb5ae97d-f946-47c1-e229-00fb8e6d914e"
   },
   "outputs": [
    {
     "data": {
      "image/png": "[encoded data removed]",
      "text/plain": [
       "<Figure size 640x480 with 1 Axes>"
      ]
     },
     "metadata": {},
     "output_type": "display_data"
    }
   ],
   "source": [
    "# ROC Curve\n",
    "CatBoost_roc_auc = roc_auc_score(y_val, model.predict(scaled_x_val))\n",
    "fpr, tpr, thresholds = roc_curve(y_val, model.predict_proba(scaled_x_val)[:,1])\n",
    "pyplot.figure()\n",
    "pyplot.plot(fpr, tpr, label='CatBoost (area = %0.2f)' % CatBoost_roc_auc)\n",
    "pyplot.plot([0, 1], [0, 1],'r--')\n",
    "pyplot.xlim([0.0, 1.0])\n",
    "pyplot.ylim([0.0, 1.05])\n",
    "pyplot.xlabel('False Positive Rate')\n",
    "pyplot.ylabel('True Positive Rate')\n",
    "pyplot.title('Receiver operating characteristic')\n",
    "pyplot.legend(loc=\"lower right\")\n",
    "pyplot.savefig('CatBoost_ROC')\n",
    "pyplot.show()"
   ]
  },
  {
   "cell_type": "code",
   "execution_count": 22,
   "metadata": {
    "colab": {
     "base_uri": "https://localhost:8080/"
    },
    "executionInfo": {
     "elapsed": 423,
     "status": "ok",
     "timestamp": 1690584804621,
     "user": {
      "displayName": "Parisa Karimi",
      "userId": "12754741530182663549"
     },
     "user_tz": -210
    },
    "id": "UYDpZbj14Sb7",
    "outputId": "d5d5b4dd-40d3-499f-d459-9240a783e019"
   },
   "outputs": [
    {
     "name": "stdout",
     "output_type": "stream",
     "text": [
      "              precision    recall  f1-score   support\n",
      "\n",
      "           0       0.95      0.99      0.97       295\n",
      "           1       0.97      0.88      0.92       136\n",
      "\n",
      "    accuracy                           0.95       431\n",
      "   macro avg       0.96      0.93      0.94       431\n",
      "weighted avg       0.95      0.95      0.95       431\n",
      "\n",
      "Confusion Matrix : \n",
      " [[291   4]\n",
      " [ 16 120]]\n",
      "Sensitivity :  0.9864406779661017\n",
      "Specificity :  0.8823529411764706\n",
      "f1 score: 0.923076923076923\n"
     ]
    }
   ],
   "source": [
    "#Confusion matrix, Accuracy, sensitivity and specificity\n",
    "print(classification_report(y_val,y_pred))\n",
    "cm = confusion_matrix(y_val, y_pred)\n",
    "print('Confusion Matrix : \\n', cm)\n",
    "\n",
    "total=sum(sum(cm))\n",
    "sensitivity = cm[0,0]/(cm[0,0]+cm[0,1])\n",
    "print('Sensitivity : ', sensitivity )\n",
    "specificity = cm[1,1]/(cm[1,0]+cm[1,1])\n",
    "print('Specificity : ', specificity)\n",
    "print('f1 score:', f1_score(y_val, y_pred))"
   ]
  },
  {
   "cell_type": "code",
   "execution_count": 23,
   "metadata": {
    "colab": {
     "base_uri": "https://localhost:8080/",
     "height": 452
    },
    "executionInfo": {
     "elapsed": 461,
     "status": "ok",
     "timestamp": 1690584813860,
     "user": {
      "displayName": "Parisa Karimi",
      "userId": "12754741530182663549"
     },
     "user_tz": -210
    },
    "id": "A0tqMC0t4ScC",
    "outputId": "436733ab-4799-42fd-f8ef-2784ada1c824"
   },
   "outputs": [
    {
     "data": {
      "text/plain": [
       "<Axes: >"
      ]
     },
     "execution_count": 23,
     "metadata": {},
     "output_type": "execute_result"
    },
    {
     "data": {
      "image/png": "[encoded data removed]",
      "text/plain": [
       "<Figure size 640x480 with 2 Axes>"
      ]
     },
     "metadata": {},
     "output_type": "display_data"
    }
   ],
   "source": [
    "# visualize confusion matrix with seaborn heatmap\n",
    "\n",
    "cm_matrix = pd.DataFrame(data=cm, columns=['Actual Positive:1', 'Actual Negative:0'],\n",
    "                                 index=['Predict Positive:1', 'Predict Negative:0'])\n",
    "\n",
    "sns.heatmap(cm_matrix, annot=True, fmt='d', cmap='YlGnBu')"
   ]
  }
 ],
 "metadata": {
  "colab": {
   "provenance": [
    {
     "file_id": "1ytnUe_Norx8Z2134G55P1oEKrkymLevr",
     "timestamp": 1690585018027
    },
    {
     "file_id": "1u8qdplViXCvQJo07scnc375VEKDjaVf4",
     "timestamp": 1690572797412
    }
   ]
  },
  "kernelspec": {
   "display_name": "Python 3 (ipykernel)",
   "language": "python",
   "name": "python3"
  },
  "language_info": {
   "codemirror_mode": {
    "name": "ipython",
    "version": 3
   },
   "file_extension": ".py",
   "mimetype": "text/x-python",
   "name": "python",
   "nbconvert_exporter": "python",
   "pygments_lexer": "ipython3",
   "version": "3.9.0"
  }
 },
 "nbformat": 4,
 "nbformat_minor": 1
}
